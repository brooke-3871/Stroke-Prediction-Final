{
 "cells": [
  {
   "cell_type": "markdown",
   "metadata": {},
   "source": [
    "# Interactive Stroke Prediction Function\n",
    "\n",
    "To use this function, run all code, and in the stroke_prediction() fill in your personal information in this order: Age, Average Glucose Level, BMI, Hypertension, Heart Disease, Gender, Ever Married, Work Type, Residence Type, and Smoking status and example is provided for clarification"
   ]
  },
  {
   "cell_type": "code",
   "execution_count": 2,
   "metadata": {},
   "outputs": [],
   "source": [
    "import pandas as pd\n",
    "import numpy as np\n",
    "from sklearn.ensemble import RandomForestClassifier"
   ]
  },
  {
   "cell_type": "code",
   "execution_count": 3,
   "metadata": {},
   "outputs": [],
   "source": [
    "df = pd.read_csv('healthcare-dataset-stroke-data.csv')"
   ]
  },
  {
   "cell_type": "code",
   "execution_count": 4,
   "metadata": {},
   "outputs": [
    {
     "name": "stdout",
     "output_type": "stream",
     "text": [
      "Replacing null BMI values with the median: 28.1\n"
     ]
    }
   ],
   "source": [
    "# filling NA in BMI\n",
    "print('Replacing null BMI values with the median:', df['bmi'].median()) \n",
    "median_value = 28.1 # can see from info table that the median for bmi is 28.1\n",
    "df['bmi'].fillna(value=median_value, inplace=True)"
   ]
  },
  {
   "cell_type": "code",
   "execution_count": 5,
   "metadata": {},
   "outputs": [],
   "source": [
    "# One 'Other' value in gender, replacing with majority value, Female.\n",
    "df['gender'] = df['gender'].replace('Other', 'Female')"
   ]
  },
  {
   "cell_type": "code",
   "execution_count": 8,
   "metadata": {},
   "outputs": [],
   "source": [
    "df['hypertension'] = df['hypertension'].replace({0 : 'No', 1 : 'Yes'})\n",
    "df['heart_disease'] = df['heart_disease'].replace({0: 'No', 1 : 'Yes'})\n",
    "df = df[['age', 'hypertension','heart_disease', 'avg_glucose_level','bmi','stroke','gender','ever_married','work_type','Residence_type','smoking_status']]"
   ]
  },
  {
   "cell_type": "code",
   "execution_count": 7,
   "metadata": {},
   "outputs": [],
   "source": [
    "# Using these variables for prediction function at end\n",
    "std_age = df['age'].std()\n",
    "mean_age = df['age'].mean()\n",
    "mean_avgglu = df['avg_glucose_level'].mean()\n",
    "std_avgglu = df['avg_glucose_level'].std()\n",
    "mean_bmi = df['bmi'].mean()\n",
    "std_bmi = df['bmi'].std()"
   ]
  },
  {
   "cell_type": "code",
   "execution_count": 9,
   "metadata": {},
   "outputs": [],
   "source": [
    "import scipy.stats as stats\n",
    "df['age'] = stats.zscore(df['age'])\n",
    "df['avg_glucose_level'] = stats.zscore(df['avg_glucose_level'])\n",
    "df['bmi'] = stats.zscore(df['bmi'])"
   ]
  },
  {
   "cell_type": "code",
   "execution_count": 13,
   "metadata": {},
   "outputs": [
    {
     "name": "stdout",
     "output_type": "stream",
     "text": [
      "<class 'pandas.core.frame.DataFrame'>\n",
      "RangeIndex: 5110 entries, 0 to 5109\n",
      "Data columns (total 16 columns):\n",
      " #   Column                          Non-Null Count  Dtype  \n",
      "---  ------                          --------------  -----  \n",
      " 0   age                             5110 non-null   float64\n",
      " 1   avg_glucose_level               5110 non-null   float64\n",
      " 2   bmi                             5110 non-null   float64\n",
      " 3   stroke                          5110 non-null   int64  \n",
      " 4   hypertension_Yes                5110 non-null   uint8  \n",
      " 5   heart_disease_Yes               5110 non-null   uint8  \n",
      " 6   gender_Male                     5110 non-null   uint8  \n",
      " 7   ever_married_Yes                5110 non-null   uint8  \n",
      " 8   work_type_Never_worked          5110 non-null   uint8  \n",
      " 9   work_type_Private               5110 non-null   uint8  \n",
      " 10  work_type_Self-employed         5110 non-null   uint8  \n",
      " 11  work_type_children              5110 non-null   uint8  \n",
      " 12  Residence_type_Urban            5110 non-null   uint8  \n",
      " 13  smoking_status_formerly smoked  5110 non-null   uint8  \n",
      " 14  smoking_status_never smoked     5110 non-null   uint8  \n",
      " 15  smoking_status_smokes           5110 non-null   uint8  \n",
      "dtypes: float64(3), int64(1), uint8(12)\n",
      "memory usage: 219.7 KB\n"
     ]
    }
   ],
   "source": [
    "df1 = pd.get_dummies(df, drop_first = True) \n",
    "df1.info()"
   ]
  },
  {
   "cell_type": "code",
   "execution_count": 14,
   "metadata": {},
   "outputs": [],
   "source": [
    "X_d = df1.drop('stroke', axis = 1)\n",
    "y_d = df1.stroke"
   ]
  },
  {
   "cell_type": "code",
   "execution_count": 17,
   "metadata": {},
   "outputs": [],
   "source": [
    "from sklearn.model_selection import train_test_split\n",
    "X_train, X_test, y_train, y_test = train_test_split(X_d, y_d, test_size=0.25, random_state=42)"
   ]
  },
  {
   "cell_type": "code",
   "execution_count": 18,
   "metadata": {},
   "outputs": [
    {
     "data": {
      "text/plain": [
       "RandomForestClassifier(class_weight='balanced', max_depth=6, n_estimators=10)"
      ]
     },
     "execution_count": 18,
     "metadata": {},
     "output_type": "execute_result"
    }
   ],
   "source": [
    "# best model\n",
    "clf = RandomForestClassifier(class_weight = 'balanced', max_depth = 6, n_estimators = 10)\n",
    "clf.fit(X_train, y_train)"
   ]
  },
  {
   "cell_type": "code",
   "execution_count": 19,
   "metadata": {},
   "outputs": [],
   "source": [
    "X = df.drop('stroke', axis = 1)"
   ]
  },
  {
   "cell_type": "code",
   "execution_count": 20,
   "metadata": {},
   "outputs": [],
   "source": [
    "#create function to determine prediction of new input\n",
    "def predict_stroke(age, avg_glucose_level, bmi, hypertension, \n",
    "                   heart_disease, gender, ever_married, work_type, \n",
    "                   Residence_type, smoking_status, clf, mean_age, std_age, mean_avgglu, \n",
    "                   std_avgglu, mean_bmi, std_bmi):\n",
    "    age  = (age - mean_age)/std_age\n",
    "    \n",
    "    avg_glucose_level = (avg_glucose_level - mean_avgglu)/std_avgglu\n",
    "    \n",
    "    bmi = (bmi - mean_bmi)/std_bmi\n",
    "    \n",
    "    X_new = {'age': age, 'avg_glucose_level': avg_glucose_level, 'bmi': bmi, 'hypertension':hypertension,\n",
    "             'heart_disease': heart_disease, 'gender' : gender, 'ever_married': ever_married, 'work_type': work_type,\n",
    "             'Residence_type':Residence_type, 'smoking_status': smoking_status}\n",
    "    \n",
    "    df2 = X.append(X_new, ignore_index = True)\n",
    "    \n",
    "    df3 = pd.get_dummies(df2, drop_first = True)\n",
    "    \n",
    "    df4 = pd.DataFrame(columns=list(X_test.columns))\n",
    "    df4.loc[0] = df3.iloc[-1]\n",
    "    \n",
    "    y_pred = clf.predict(df4)\n",
    "    \n",
    "    proba = clf.predict_proba(df4)\n",
    "    \n",
    "    return y_pred, proba"
   ]
  },
  {
   "cell_type": "code",
   "execution_count": 21,
   "metadata": {},
   "outputs": [],
   "source": [
    "#Here is where you fill in your information in this order: Age, Average Glucose Level, BMI, Hypertension, \n",
    "#Heart Disease, Gender, Ever Married, Work Type, Residence Type, and Smoking status and example is provided\n",
    "\n",
    "X = predict_stroke(34, 350, 35, 'Yes', 'No', 'Female', 'Yes', 'Private', 'Urban', 'never smoked', clf, mean_age, std_age, mean_avgglu, std_avgglu, mean_bmi, std_bmi)"
   ]
  },
  {
   "cell_type": "code",
   "execution_count": 22,
   "metadata": {},
   "outputs": [
    {
     "name": "stdout",
     "output_type": "stream",
     "text": [
      "(array([0]), array([[0.7700231, 0.2299769]]))\n"
     ]
    }
   ],
   "source": [
    "print(X)"
   ]
  },
  {
   "cell_type": "markdown",
   "metadata": {},
   "source": [
    "The first output will be a 1 or a 0. 1 indicates stroke, 0 indicates no stroke. The "
   ]
  }
 ],
 "metadata": {
  "kernelspec": {
   "display_name": "Python 3",
   "language": "python",
   "name": "python3"
  },
  "language_info": {
   "codemirror_mode": {
    "name": "ipython",
    "version": 3
   },
   "file_extension": ".py",
   "mimetype": "text/x-python",
   "name": "python",
   "nbconvert_exporter": "python",
   "pygments_lexer": "ipython3",
   "version": "3.8.5"
  }
 },
 "nbformat": 4,
 "nbformat_minor": 4
}
